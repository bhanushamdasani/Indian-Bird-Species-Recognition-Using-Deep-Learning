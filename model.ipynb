{
  "cells": [
    {
      "cell_type": "code",
      "execution_count": 13,
      "metadata": {
        "colab": {
          "base_uri": "https://localhost:8080/"
        },
        "id": "6exTg5RCriNn",
        "outputId": "a40dbc8e-6746-4287-e776-7d398ef1d023"
      },
      "outputs": [
        {
          "output_type": "stream",
          "name": "stdout",
          "text": [
            "Requirement already satisfied: pydub in /usr/local/lib/python3.10/dist-packages (0.25.1)\n"
          ]
        }
      ],
      "source": [
        "pip install pydub"
      ]
    },
    {
      "cell_type": "code",
      "execution_count": 14,
      "metadata": {
        "colab": {
          "base_uri": "https://localhost:8080/"
        },
        "id": "alCbu6_LZ-Ci",
        "outputId": "b0427c3e-a89a-44be-c328-f350b3713a7c"
      },
      "outputs": [
        {
          "output_type": "stream",
          "name": "stdout",
          "text": [
            "Requirement already satisfied: tqdm in /usr/local/lib/python3.10/dist-packages (4.66.2)\n"
          ]
        }
      ],
      "source": [
        "pip install tqdm"
      ]
    },
    {
      "cell_type": "code",
      "execution_count": 15,
      "metadata": {
        "colab": {
          "base_uri": "https://localhost:8080/"
        },
        "id": "Ji4y_1-0Z_Io",
        "outputId": "0a6e3e43-9c80-4a47-9781-82e7b250b13a"
      },
      "outputs": [
        {
          "output_type": "stream",
          "name": "stdout",
          "text": [
            "Drive already mounted at /content/drive; to attempt to forcibly remount, call drive.mount(\"/content/drive\", force_remount=True).\n"
          ]
        }
      ],
      "source": [
        "from google.colab import drive\n",
        "drive.mount('/content/drive')"
      ]
    },
    {
      "cell_type": "code",
      "execution_count": 16,
      "metadata": {
        "colab": {
          "base_uri": "https://localhost:8080/"
        },
        "id": "iLJXJnu9aCwt",
        "outputId": "880a9a4e-677c-4c10-d5d6-c3479ff9a5dd"
      },
      "outputs": [
        {
          "output_type": "stream",
          "name": "stdout",
          "text": [
            "Requirement already satisfied: librosa in /usr/local/lib/python3.10/dist-packages (0.10.1)\n",
            "Requirement already satisfied: scikit-learn in /usr/local/lib/python3.10/dist-packages (1.2.2)\n",
            "Requirement already satisfied: keras in /usr/local/lib/python3.10/dist-packages (2.15.0)\n",
            "Requirement already satisfied: tensorflow in /usr/local/lib/python3.10/dist-packages (2.15.0)\n",
            "Requirement already satisfied: audioread>=2.1.9 in /usr/local/lib/python3.10/dist-packages (from librosa) (3.0.1)\n",
            "Requirement already satisfied: numpy!=1.22.0,!=1.22.1,!=1.22.2,>=1.20.3 in /usr/local/lib/python3.10/dist-packages (from librosa) (1.25.2)\n",
            "Requirement already satisfied: scipy>=1.2.0 in /usr/local/lib/python3.10/dist-packages (from librosa) (1.11.4)\n",
            "Requirement already satisfied: joblib>=0.14 in /usr/local/lib/python3.10/dist-packages (from librosa) (1.4.0)\n",
            "Requirement already satisfied: decorator>=4.3.0 in /usr/local/lib/python3.10/dist-packages (from librosa) (4.4.2)\n",
            "Requirement already satisfied: numba>=0.51.0 in /usr/local/lib/python3.10/dist-packages (from librosa) (0.58.1)\n",
            "Requirement already satisfied: soundfile>=0.12.1 in /usr/local/lib/python3.10/dist-packages (from librosa) (0.12.1)\n",
            "Requirement already satisfied: pooch>=1.0 in /usr/local/lib/python3.10/dist-packages (from librosa) (1.8.1)\n",
            "Requirement already satisfied: soxr>=0.3.2 in /usr/local/lib/python3.10/dist-packages (from librosa) (0.3.7)\n",
            "Requirement already satisfied: typing-extensions>=4.1.1 in /usr/local/lib/python3.10/dist-packages (from librosa) (4.11.0)\n",
            "Requirement already satisfied: lazy-loader>=0.1 in /usr/local/lib/python3.10/dist-packages (from librosa) (0.4)\n",
            "Requirement already satisfied: msgpack>=1.0 in /usr/local/lib/python3.10/dist-packages (from librosa) (1.0.8)\n",
            "Requirement already satisfied: threadpoolctl>=2.0.0 in /usr/local/lib/python3.10/dist-packages (from scikit-learn) (3.4.0)\n",
            "Requirement already satisfied: absl-py>=1.0.0 in /usr/local/lib/python3.10/dist-packages (from tensorflow) (1.4.0)\n",
            "Requirement already satisfied: astunparse>=1.6.0 in /usr/local/lib/python3.10/dist-packages (from tensorflow) (1.6.3)\n",
            "Requirement already satisfied: flatbuffers>=23.5.26 in /usr/local/lib/python3.10/dist-packages (from tensorflow) (24.3.25)\n",
            "Requirement already satisfied: gast!=0.5.0,!=0.5.1,!=0.5.2,>=0.2.1 in /usr/local/lib/python3.10/dist-packages (from tensorflow) (0.5.4)\n",
            "Requirement already satisfied: google-pasta>=0.1.1 in /usr/local/lib/python3.10/dist-packages (from tensorflow) (0.2.0)\n",
            "Requirement already satisfied: h5py>=2.9.0 in /usr/local/lib/python3.10/dist-packages (from tensorflow) (3.9.0)\n",
            "Requirement already satisfied: libclang>=13.0.0 in /usr/local/lib/python3.10/dist-packages (from tensorflow) (18.1.1)\n",
            "Requirement already satisfied: ml-dtypes~=0.2.0 in /usr/local/lib/python3.10/dist-packages (from tensorflow) (0.2.0)\n",
            "Requirement already satisfied: opt-einsum>=2.3.2 in /usr/local/lib/python3.10/dist-packages (from tensorflow) (3.3.0)\n",
            "Requirement already satisfied: packaging in /usr/local/lib/python3.10/dist-packages (from tensorflow) (24.0)\n",
            "Requirement already satisfied: protobuf!=4.21.0,!=4.21.1,!=4.21.2,!=4.21.3,!=4.21.4,!=4.21.5,<5.0.0dev,>=3.20.3 in /usr/local/lib/python3.10/dist-packages (from tensorflow) (3.20.3)\n",
            "Requirement already satisfied: setuptools in /usr/local/lib/python3.10/dist-packages (from tensorflow) (67.7.2)\n",
            "Requirement already satisfied: six>=1.12.0 in /usr/local/lib/python3.10/dist-packages (from tensorflow) (1.16.0)\n",
            "Requirement already satisfied: termcolor>=1.1.0 in /usr/local/lib/python3.10/dist-packages (from tensorflow) (2.4.0)\n",
            "Requirement already satisfied: wrapt<1.15,>=1.11.0 in /usr/local/lib/python3.10/dist-packages (from tensorflow) (1.14.1)\n",
            "Requirement already satisfied: tensorflow-io-gcs-filesystem>=0.23.1 in /usr/local/lib/python3.10/dist-packages (from tensorflow) (0.36.0)\n",
            "Requirement already satisfied: grpcio<2.0,>=1.24.3 in /usr/local/lib/python3.10/dist-packages (from tensorflow) (1.62.1)\n",
            "Requirement already satisfied: tensorboard<2.16,>=2.15 in /usr/local/lib/python3.10/dist-packages (from tensorflow) (2.15.2)\n",
            "Requirement already satisfied: tensorflow-estimator<2.16,>=2.15.0 in /usr/local/lib/python3.10/dist-packages (from tensorflow) (2.15.0)\n",
            "Requirement already satisfied: wheel<1.0,>=0.23.0 in /usr/local/lib/python3.10/dist-packages (from astunparse>=1.6.0->tensorflow) (0.43.0)\n",
            "Requirement already satisfied: llvmlite<0.42,>=0.41.0dev0 in /usr/local/lib/python3.10/dist-packages (from numba>=0.51.0->librosa) (0.41.1)\n",
            "Requirement already satisfied: platformdirs>=2.5.0 in /usr/local/lib/python3.10/dist-packages (from pooch>=1.0->librosa) (4.2.0)\n",
            "Requirement already satisfied: requests>=2.19.0 in /usr/local/lib/python3.10/dist-packages (from pooch>=1.0->librosa) (2.31.0)\n",
            "Requirement already satisfied: cffi>=1.0 in /usr/local/lib/python3.10/dist-packages (from soundfile>=0.12.1->librosa) (1.16.0)\n",
            "Requirement already satisfied: google-auth<3,>=1.6.3 in /usr/local/lib/python3.10/dist-packages (from tensorboard<2.16,>=2.15->tensorflow) (2.27.0)\n",
            "Requirement already satisfied: google-auth-oauthlib<2,>=0.5 in /usr/local/lib/python3.10/dist-packages (from tensorboard<2.16,>=2.15->tensorflow) (1.2.0)\n",
            "Requirement already satisfied: markdown>=2.6.8 in /usr/local/lib/python3.10/dist-packages (from tensorboard<2.16,>=2.15->tensorflow) (3.6)\n",
            "Requirement already satisfied: tensorboard-data-server<0.8.0,>=0.7.0 in /usr/local/lib/python3.10/dist-packages (from tensorboard<2.16,>=2.15->tensorflow) (0.7.2)\n",
            "Requirement already satisfied: werkzeug>=1.0.1 in /usr/local/lib/python3.10/dist-packages (from tensorboard<2.16,>=2.15->tensorflow) (3.0.2)\n",
            "Requirement already satisfied: pycparser in /usr/local/lib/python3.10/dist-packages (from cffi>=1.0->soundfile>=0.12.1->librosa) (2.22)\n",
            "Requirement already satisfied: cachetools<6.0,>=2.0.0 in /usr/local/lib/python3.10/dist-packages (from google-auth<3,>=1.6.3->tensorboard<2.16,>=2.15->tensorflow) (5.3.3)\n",
            "Requirement already satisfied: pyasn1-modules>=0.2.1 in /usr/local/lib/python3.10/dist-packages (from google-auth<3,>=1.6.3->tensorboard<2.16,>=2.15->tensorflow) (0.4.0)\n",
            "Requirement already satisfied: rsa<5,>=3.1.4 in /usr/local/lib/python3.10/dist-packages (from google-auth<3,>=1.6.3->tensorboard<2.16,>=2.15->tensorflow) (4.9)\n",
            "Requirement already satisfied: requests-oauthlib>=0.7.0 in /usr/local/lib/python3.10/dist-packages (from google-auth-oauthlib<2,>=0.5->tensorboard<2.16,>=2.15->tensorflow) (1.3.1)\n",
            "Requirement already satisfied: charset-normalizer<4,>=2 in /usr/local/lib/python3.10/dist-packages (from requests>=2.19.0->pooch>=1.0->librosa) (3.3.2)\n",
            "Requirement already satisfied: idna<4,>=2.5 in /usr/local/lib/python3.10/dist-packages (from requests>=2.19.0->pooch>=1.0->librosa) (3.6)\n",
            "Requirement already satisfied: urllib3<3,>=1.21.1 in /usr/local/lib/python3.10/dist-packages (from requests>=2.19.0->pooch>=1.0->librosa) (2.0.7)\n",
            "Requirement already satisfied: certifi>=2017.4.17 in /usr/local/lib/python3.10/dist-packages (from requests>=2.19.0->pooch>=1.0->librosa) (2024.2.2)\n",
            "Requirement already satisfied: MarkupSafe>=2.1.1 in /usr/local/lib/python3.10/dist-packages (from werkzeug>=1.0.1->tensorboard<2.16,>=2.15->tensorflow) (2.1.5)\n",
            "Requirement already satisfied: pyasn1<0.7.0,>=0.4.6 in /usr/local/lib/python3.10/dist-packages (from pyasn1-modules>=0.2.1->google-auth<3,>=1.6.3->tensorboard<2.16,>=2.15->tensorflow) (0.6.0)\n",
            "Requirement already satisfied: oauthlib>=3.0.0 in /usr/local/lib/python3.10/dist-packages (from requests-oauthlib>=0.7.0->google-auth-oauthlib<2,>=0.5->tensorboard<2.16,>=2.15->tensorflow) (3.2.2)\n"
          ]
        }
      ],
      "source": [
        "pip install librosa scikit-learn keras tensorflow"
      ]
    },
    {
      "cell_type": "code",
      "execution_count": 17,
      "metadata": {
        "id": "s9-VvP-NaV5K"
      },
      "outputs": [],
      "source": [
        "import os\n",
        "import librosa\n",
        "import numpy as np\n",
        "from sklearn.model_selection import train_test_split\n",
        "from sklearn.preprocessing import LabelEncoder\n",
        "from keras.utils import to_categorical\n",
        "from keras.models import Sequential\n",
        "from keras.layers import Dense, Dropout, Flatten, Conv2D, MaxPooling2D\n",
        "from keras.callbacks import Callback"
      ]
    },
    {
      "cell_type": "code",
      "execution_count": 18,
      "metadata": {
        "id": "8dlVPQRsavPE"
      },
      "outputs": [],
      "source": [
        "class PrintTrainingProgress(Callback):\n",
        "    def on_epoch_end(self, epoch, logs=None):\n",
        "        print(f\"Epoch {epoch + 1}/{self.params['epochs']} - loss: {logs['loss']:.4f} - accuracy: {logs['accuracy']:.4f} - val_loss: {logs['val_loss']:.4f} - val_accuracy: {logs['val_accuracy']:.4f}\")"
      ]
    },
    {
      "cell_type": "code",
      "execution_count": 19,
      "metadata": {
        "id": "60PyDRuGaxhf"
      },
      "outputs": [],
      "source": [
        "def extract_features(audio_file, sample_rate=44100, n_mfcc=13, max_len=174):\n",
        "    audio_data, _ = librosa.load(audio_file, sr=sample_rate)\n",
        "    mfccs = librosa.feature.mfcc(y=audio_data, sr=sample_rate, n_mfcc=n_mfcc)\n",
        "    # Pad or truncate the features to have fixed length\n",
        "    if (mfccs.shape[1] < max_len):\n",
        "        pad_width = max_len - mfccs.shape[1]\n",
        "        mfccs = np.pad(mfccs, pad_width=((0, 0), (0, pad_width)), mode='constant')\n",
        "    else:\n",
        "        mfccs = mfccs[:, :max_len]\n",
        "    return mfccs"
      ]
    },
    {
      "cell_type": "code",
      "execution_count": 20,
      "metadata": {
        "id": "7a3efQu5azvL"
      },
      "outputs": [],
      "source": [
        "def load_data(data_dir):\n",
        "    print(\"Step 1: Loading data...\")\n",
        "    labels = []\n",
        "    features = []\n",
        "    for class_dir in os.listdir(data_dir):\n",
        "        class_label = class_dir\n",
        "        class_dir_path = os.path.join(data_dir, class_dir)\n",
        "        for audio_file in os.listdir(class_dir_path):\n",
        "            file_path = os.path.join(class_dir_path, audio_file)\n",
        "            # Extract features\n",
        "            mfccs = extract_features(file_path)\n",
        "            features.append(mfccs)\n",
        "            labels.append(class_label)\n",
        "    print(\"Data loaded successfully.\")\n",
        "    return np.array(features), np.array(labels)"
      ]
    },
    {
      "cell_type": "code",
      "execution_count": 21,
      "metadata": {
        "colab": {
          "base_uri": "https://localhost:8080/"
        },
        "id": "5Fe9PD58a2kb",
        "outputId": "cc86beab-dd00-4d0a-9218-fe4ac41029ff"
      },
      "outputs": [
        {
          "output_type": "stream",
          "name": "stdout",
          "text": [
            "Step 2: Preprocessing data and encoding labels...\n",
            "Step 1: Loading data...\n",
            "Data loaded successfully.\n",
            "Encoding labels...\n",
            "Data preprocessed and labels encoded.\n"
          ]
        }
      ],
      "source": [
        "# Load data\n",
        "print(\"Step 2: Preprocessing data and encoding labels...\")\n",
        "data_dir = '/content/drive/MyDrive/wav'  # Change this to your directory containing audio files\n",
        "features, labels = load_data(data_dir)\n",
        "\n",
        "# Encode labels\n",
        "print(\"Encoding labels...\")\n",
        "label_encoder = LabelEncoder()\n",
        "encoded_labels = label_encoder.fit_transform(labels)\n",
        "num_classes = len(label_encoder.classes_)\n",
        "encoded_labels = to_categorical(encoded_labels, num_classes=num_classes)\n",
        "\n",
        "# Split data into train and test sets\n",
        "X_train, X_test, y_train, y_test = train_test_split(features, encoded_labels, test_size=0.2, random_state=42)\n",
        "print(\"Data preprocessed and labels encoded.\")"
      ]
    },
    {
      "cell_type": "code",
      "execution_count": 22,
      "metadata": {
        "id": "_ZUNcDzna6Le"
      },
      "outputs": [],
      "source": [
        "# Reshape input data to include the channel dimension\n",
        "X_train = X_train[..., np.newaxis]\n",
        "X_test = X_test[..., np.newaxis]\n"
      ]
    },
    {
      "cell_type": "code",
      "execution_count": 33,
      "metadata": {
        "colab": {
          "base_uri": "https://localhost:8080/"
        },
        "id": "087D_cO3a61O",
        "outputId": "da61cf7b-af46-4f4c-f38a-1591f24be8ab"
      },
      "outputs": [
        {
          "output_type": "stream",
          "name": "stdout",
          "text": [
            "Step 3: Building the model...\n"
          ]
        }
      ],
      "source": [
        "# Define CNN model\n",
        "print(\"Step 3: Building the model...\")\n",
        "model = Sequential([\n",
        "    Conv2D(32, kernel_size=(3, 3), activation='relu', input_shape=(X_train.shape[1], X_train.shape[2], 1)),\n",
        "    MaxPooling2D(pool_size=(2, 2)),\n",
        "    Dropout(0.25),\n",
        "    Conv2D(64, kernel_size=(3, 3), activation='relu'),\n",
        "    Dropout(0.25),\n",
        "    Conv2D(128, kernel_size=(3, 3), activation='relu'),\n",
        "    Dropout(0.25),\n",
        "    Flatten(),\n",
        "    Dense(512, activation='relu'),\n",
        "    Dropout(0.5),\n",
        "    Dense(256, activation='relu'),\n",
        "    Dropout(0.5),\n",
        "    Dense(num_classes, activation='softmax')\n",
        "])\n"
      ]
    },
    {
      "cell_type": "code",
      "execution_count": 35,
      "metadata": {
        "colab": {
          "base_uri": "https://localhost:8080/"
        },
        "id": "eHoEA3CbbEkO",
        "outputId": "525daaa6-71ae-4eb1-eb7e-b70ab806f495"
      },
      "outputs": [
        {
          "output_type": "stream",
          "name": "stdout",
          "text": [
            "Compiling the model...\n",
            "Model built and compiled successfully.\n",
            "Model Summary:\n",
            "Model: \"sequential_3\"\n",
            "_________________________________________________________________\n",
            " Layer (type)                Output Shape              Param #   \n",
            "=================================================================\n",
            " conv2d_9 (Conv2D)           (None, 11, 172, 32)       320       \n",
            "                                                                 \n",
            " max_pooling2d_3 (MaxPoolin  (None, 5, 86, 32)         0         \n",
            " g2D)                                                            \n",
            "                                                                 \n",
            " dropout_15 (Dropout)        (None, 5, 86, 32)         0         \n",
            "                                                                 \n",
            " conv2d_10 (Conv2D)          (None, 3, 84, 64)         18496     \n",
            "                                                                 \n",
            " dropout_16 (Dropout)        (None, 3, 84, 64)         0         \n",
            "                                                                 \n",
            " conv2d_11 (Conv2D)          (None, 1, 82, 128)        73856     \n",
            "                                                                 \n",
            " dropout_17 (Dropout)        (None, 1, 82, 128)        0         \n",
            "                                                                 \n",
            " flatten_3 (Flatten)         (None, 10496)             0         \n",
            "                                                                 \n",
            " dense_9 (Dense)             (None, 512)               5374464   \n",
            "                                                                 \n",
            " dropout_18 (Dropout)        (None, 512)               0         \n",
            "                                                                 \n",
            " dense_10 (Dense)            (None, 256)               131328    \n",
            "                                                                 \n",
            " dropout_19 (Dropout)        (None, 256)               0         \n",
            "                                                                 \n",
            " dense_11 (Dense)            (None, 5)                 1285      \n",
            "                                                                 \n",
            "=================================================================\n",
            "Total params: 5599749 (21.36 MB)\n",
            "Trainable params: 5599749 (21.36 MB)\n",
            "Non-trainable params: 0 (0.00 Byte)\n",
            "_________________________________________________________________\n",
            "None\n",
            "Step 4: Training the model...\n",
            "Epoch 1/30\n",
            "13/13 [==============================] - ETA: 0s - loss: 1.4835 - accuracy: 0.3552Epoch 1/30 - loss: 1.4835 - accuracy: 0.3552 - val_loss: 1.4543 - val_accuracy: 0.3700\n",
            "13/13 [==============================] - 7s 285ms/step - loss: 1.4835 - accuracy: 0.3552 - val_loss: 1.4543 - val_accuracy: 0.3700\n",
            "Epoch 2/30\n",
            "13/13 [==============================] - ETA: 0s - loss: 1.4465 - accuracy: 0.3300Epoch 2/30 - loss: 1.4465 - accuracy: 0.3300 - val_loss: 1.4062 - val_accuracy: 0.4500\n",
            "13/13 [==============================] - 2s 179ms/step - loss: 1.4465 - accuracy: 0.3300 - val_loss: 1.4062 - val_accuracy: 0.4500\n",
            "Epoch 3/30\n",
            "13/13 [==============================] - ETA: 0s - loss: 1.3854 - accuracy: 0.3929Epoch 3/30 - loss: 1.3854 - accuracy: 0.3929 - val_loss: 1.2239 - val_accuracy: 0.5700\n",
            "13/13 [==============================] - 2s 144ms/step - loss: 1.3854 - accuracy: 0.3929 - val_loss: 1.2239 - val_accuracy: 0.5700\n",
            "Epoch 4/30\n",
            "13/13 [==============================] - ETA: 0s - loss: 1.4190 - accuracy: 0.3703Epoch 4/30 - loss: 1.4190 - accuracy: 0.3703 - val_loss: 1.3349 - val_accuracy: 0.4700\n",
            "13/13 [==============================] - 2s 147ms/step - loss: 1.4190 - accuracy: 0.3703 - val_loss: 1.3349 - val_accuracy: 0.4700\n",
            "Epoch 5/30\n",
            "13/13 [==============================] - ETA: 0s - loss: 1.3447 - accuracy: 0.3879Epoch 5/30 - loss: 1.3447 - accuracy: 0.3879 - val_loss: 1.1809 - val_accuracy: 0.5200\n",
            "13/13 [==============================] - 2s 143ms/step - loss: 1.3447 - accuracy: 0.3879 - val_loss: 1.1809 - val_accuracy: 0.5200\n",
            "Epoch 6/30\n",
            "13/13 [==============================] - ETA: 0s - loss: 1.3112 - accuracy: 0.4509Epoch 6/30 - loss: 1.3112 - accuracy: 0.4509 - val_loss: 1.2542 - val_accuracy: 0.5000\n",
            "13/13 [==============================] - 2s 142ms/step - loss: 1.3112 - accuracy: 0.4509 - val_loss: 1.2542 - val_accuracy: 0.5000\n",
            "Epoch 7/30\n",
            "13/13 [==============================] - ETA: 0s - loss: 1.3830 - accuracy: 0.3753Epoch 7/30 - loss: 1.3830 - accuracy: 0.3753 - val_loss: 1.2819 - val_accuracy: 0.5200\n",
            "13/13 [==============================] - 2s 175ms/step - loss: 1.3830 - accuracy: 0.3753 - val_loss: 1.2819 - val_accuracy: 0.5200\n",
            "Epoch 8/30\n",
            "13/13 [==============================] - ETA: 0s - loss: 1.2037 - accuracy: 0.4534Epoch 8/30 - loss: 1.2037 - accuracy: 0.4534 - val_loss: 1.0170 - val_accuracy: 0.6400\n",
            "13/13 [==============================] - 3s 225ms/step - loss: 1.2037 - accuracy: 0.4534 - val_loss: 1.0170 - val_accuracy: 0.6400\n",
            "Epoch 9/30\n",
            "13/13 [==============================] - ETA: 0s - loss: 1.1327 - accuracy: 0.5113Epoch 9/30 - loss: 1.1327 - accuracy: 0.5113 - val_loss: 1.0285 - val_accuracy: 0.6400\n",
            "13/13 [==============================] - 2s 155ms/step - loss: 1.1327 - accuracy: 0.5113 - val_loss: 1.0285 - val_accuracy: 0.6400\n",
            "Epoch 10/30\n",
            "13/13 [==============================] - ETA: 0s - loss: 1.0985 - accuracy: 0.5466Epoch 10/30 - loss: 1.0985 - accuracy: 0.5466 - val_loss: 0.9933 - val_accuracy: 0.6700\n",
            "13/13 [==============================] - 2s 144ms/step - loss: 1.0985 - accuracy: 0.5466 - val_loss: 0.9933 - val_accuracy: 0.6700\n",
            "Epoch 11/30\n",
            "13/13 [==============================] - ETA: 0s - loss: 1.0623 - accuracy: 0.5642Epoch 11/30 - loss: 1.0623 - accuracy: 0.5642 - val_loss: 0.8780 - val_accuracy: 0.6800\n",
            "13/13 [==============================] - 2s 145ms/step - loss: 1.0623 - accuracy: 0.5642 - val_loss: 0.8780 - val_accuracy: 0.6800\n",
            "Epoch 12/30\n",
            "13/13 [==============================] - ETA: 0s - loss: 0.9413 - accuracy: 0.6071Epoch 12/30 - loss: 0.9413 - accuracy: 0.6071 - val_loss: 1.0816 - val_accuracy: 0.6000\n",
            "13/13 [==============================] - 2s 143ms/step - loss: 0.9413 - accuracy: 0.6071 - val_loss: 1.0816 - val_accuracy: 0.6000\n",
            "Epoch 13/30\n",
            "13/13 [==============================] - ETA: 0s - loss: 0.9678 - accuracy: 0.6171Epoch 13/30 - loss: 0.9678 - accuracy: 0.6171 - val_loss: 0.9372 - val_accuracy: 0.6600\n",
            "13/13 [==============================] - 2s 141ms/step - loss: 0.9678 - accuracy: 0.6171 - val_loss: 0.9372 - val_accuracy: 0.6600\n",
            "Epoch 14/30\n",
            "13/13 [==============================] - ETA: 0s - loss: 0.8297 - accuracy: 0.6499Epoch 14/30 - loss: 0.8297 - accuracy: 0.6499 - val_loss: 0.9306 - val_accuracy: 0.7000\n",
            "13/13 [==============================] - 3s 198ms/step - loss: 0.8297 - accuracy: 0.6499 - val_loss: 0.9306 - val_accuracy: 0.7000\n",
            "Epoch 15/30\n",
            "13/13 [==============================] - ETA: 0s - loss: 0.8591 - accuracy: 0.6574Epoch 15/30 - loss: 0.8591 - accuracy: 0.6574 - val_loss: 1.1191 - val_accuracy: 0.6300\n",
            "13/13 [==============================] - 3s 222ms/step - loss: 0.8591 - accuracy: 0.6574 - val_loss: 1.1191 - val_accuracy: 0.6300\n",
            "Epoch 16/30\n",
            "13/13 [==============================] - ETA: 0s - loss: 0.9647 - accuracy: 0.6222Epoch 16/30 - loss: 0.9647 - accuracy: 0.6222 - val_loss: 0.9083 - val_accuracy: 0.6100\n",
            "13/13 [==============================] - 2s 156ms/step - loss: 0.9647 - accuracy: 0.6222 - val_loss: 0.9083 - val_accuracy: 0.6100\n",
            "Epoch 17/30\n",
            "13/13 [==============================] - ETA: 0s - loss: 0.8902 - accuracy: 0.6096Epoch 17/30 - loss: 0.8902 - accuracy: 0.6096 - val_loss: 0.9454 - val_accuracy: 0.6800\n",
            "13/13 [==============================] - 2s 143ms/step - loss: 0.8902 - accuracy: 0.6096 - val_loss: 0.9454 - val_accuracy: 0.6800\n",
            "Epoch 18/30\n",
            "13/13 [==============================] - ETA: 0s - loss: 0.7580 - accuracy: 0.6927Epoch 18/30 - loss: 0.7580 - accuracy: 0.6927 - val_loss: 1.1139 - val_accuracy: 0.6700\n",
            "13/13 [==============================] - 2s 142ms/step - loss: 0.7580 - accuracy: 0.6927 - val_loss: 1.1139 - val_accuracy: 0.6700\n",
            "Epoch 19/30\n",
            "13/13 [==============================] - ETA: 0s - loss: 0.6808 - accuracy: 0.7204Epoch 19/30 - loss: 0.6808 - accuracy: 0.7204 - val_loss: 1.2284 - val_accuracy: 0.6400\n",
            "13/13 [==============================] - 2s 142ms/step - loss: 0.6808 - accuracy: 0.7204 - val_loss: 1.2284 - val_accuracy: 0.6400\n",
            "Epoch 20/30\n",
            "13/13 [==============================] - ETA: 0s - loss: 0.6334 - accuracy: 0.7380Epoch 20/30 - loss: 0.6334 - accuracy: 0.7380 - val_loss: 1.2156 - val_accuracy: 0.6200\n",
            "13/13 [==============================] - 2s 142ms/step - loss: 0.6334 - accuracy: 0.7380 - val_loss: 1.2156 - val_accuracy: 0.6200\n",
            "Epoch 21/30\n",
            "13/13 [==============================] - ETA: 0s - loss: 0.7129 - accuracy: 0.7003Epoch 21/30 - loss: 0.7129 - accuracy: 0.7003 - val_loss: 1.0522 - val_accuracy: 0.5800\n",
            "13/13 [==============================] - 3s 232ms/step - loss: 0.7129 - accuracy: 0.7003 - val_loss: 1.0522 - val_accuracy: 0.5800\n",
            "Epoch 22/30\n",
            "13/13 [==============================] - ETA: 0s - loss: 0.6931 - accuracy: 0.7380Epoch 22/30 - loss: 0.6931 - accuracy: 0.7380 - val_loss: 1.0910 - val_accuracy: 0.5900\n",
            "13/13 [==============================] - 2s 178ms/step - loss: 0.6931 - accuracy: 0.7380 - val_loss: 1.0910 - val_accuracy: 0.5900\n",
            "Epoch 23/30\n",
            "13/13 [==============================] - ETA: 0s - loss: 0.6378 - accuracy: 0.7557Epoch 23/30 - loss: 0.6378 - accuracy: 0.7557 - val_loss: 1.5458 - val_accuracy: 0.5700\n",
            "13/13 [==============================] - 2s 143ms/step - loss: 0.6378 - accuracy: 0.7557 - val_loss: 1.5458 - val_accuracy: 0.5700\n",
            "Epoch 24/30\n",
            "13/13 [==============================] - ETA: 0s - loss: 0.6863 - accuracy: 0.7406Epoch 24/30 - loss: 0.6863 - accuracy: 0.7406 - val_loss: 1.8070 - val_accuracy: 0.6100\n",
            "13/13 [==============================] - 2s 147ms/step - loss: 0.6863 - accuracy: 0.7406 - val_loss: 1.8070 - val_accuracy: 0.6100\n",
            "Epoch 25/30\n",
            "13/13 [==============================] - ETA: 0s - loss: 0.6755 - accuracy: 0.7456Epoch 25/30 - loss: 0.6755 - accuracy: 0.7456 - val_loss: 1.1649 - val_accuracy: 0.6300\n",
            "13/13 [==============================] - 2s 155ms/step - loss: 0.6755 - accuracy: 0.7456 - val_loss: 1.1649 - val_accuracy: 0.6300\n",
            "Epoch 26/30\n",
            "13/13 [==============================] - ETA: 0s - loss: 0.5163 - accuracy: 0.8111Epoch 26/30 - loss: 0.5163 - accuracy: 0.8111 - val_loss: 1.3954 - val_accuracy: 0.5700\n",
            "13/13 [==============================] - 2s 148ms/step - loss: 0.5163 - accuracy: 0.8111 - val_loss: 1.3954 - val_accuracy: 0.5700\n",
            "Epoch 27/30\n",
            "13/13 [==============================] - ETA: 0s - loss: 0.4513 - accuracy: 0.8338Epoch 27/30 - loss: 0.4513 - accuracy: 0.8338 - val_loss: 1.6437 - val_accuracy: 0.5700\n",
            "13/13 [==============================] - 2s 180ms/step - loss: 0.4513 - accuracy: 0.8338 - val_loss: 1.6437 - val_accuracy: 0.5700\n",
            "Epoch 28/30\n",
            "13/13 [==============================] - ETA: 0s - loss: 0.4421 - accuracy: 0.8237Epoch 28/30 - loss: 0.4421 - accuracy: 0.8237 - val_loss: 1.1716 - val_accuracy: 0.6700\n",
            "13/13 [==============================] - 3s 241ms/step - loss: 0.4421 - accuracy: 0.8237 - val_loss: 1.1716 - val_accuracy: 0.6700\n",
            "Epoch 29/30\n",
            "13/13 [==============================] - ETA: 0s - loss: 0.5512 - accuracy: 0.8086Epoch 29/30 - loss: 0.5512 - accuracy: 0.8086 - val_loss: 1.1925 - val_accuracy: 0.6400\n",
            "13/13 [==============================] - 2s 143ms/step - loss: 0.5512 - accuracy: 0.8086 - val_loss: 1.1925 - val_accuracy: 0.6400\n",
            "Epoch 30/30\n",
            "13/13 [==============================] - ETA: 0s - loss: 0.4145 - accuracy: 0.8363Epoch 30/30 - loss: 0.4145 - accuracy: 0.8363 - val_loss: 1.3469 - val_accuracy: 0.5900\n",
            "13/13 [==============================] - 2s 143ms/step - loss: 0.4145 - accuracy: 0.8363 - val_loss: 1.3469 - val_accuracy: 0.5900\n",
            "Model trained successfully.\n",
            "Step 5: Evaluating the model...\n",
            "4/4 [==============================] - 0s 23ms/step - loss: 1.3469 - accuracy: 0.5900\n",
            "Test Loss: 1.3469014167785645\n",
            "Test Accuracy: 0.5899999737739563\n",
            "Model evaluation complete.\n"
          ]
        }
      ],
      "source": [
        "# Compile the model\n",
        "print(\"Compiling the model...\")\n",
        "model.compile(loss='categorical_crossentropy',\n",
        "              optimizer='adam',\n",
        "              metrics=['accuracy'])\n",
        "print(\"Model built and compiled successfully.\")\n",
        "# Print model summary\n",
        "print(\"Model Summary:\")\n",
        "print(model.summary())\n",
        "\n",
        "# Define callback to print training progress\n",
        "print_progress = PrintTrainingProgress()\n",
        "\n",
        "# Train the model with the callback\n",
        "print(\"Step 4: Training the model...\")\n",
        "model.fit(X_train, y_train, batch_size=32, epochs=30, validation_data=(X_test, y_test), callbacks=[print_progress])\n",
        "print(\"Model trained successfully.\")\n",
        "\n",
        "# Evaluate the model\n",
        "print(\"Step 5: Evaluating the model...\")\n",
        "loss, accuracy = model.evaluate(X_test, y_test)\n",
        "print('Test Loss:', loss)\n",
        "print('Test Accuracy:', accuracy)\n",
        "print(\"Model evaluation complete.\")"
      ]
    },
    {
      "cell_type": "code",
      "execution_count": 36,
      "metadata": {
        "id": "fA2NXPt-k1zr"
      },
      "outputs": [],
      "source": [
        "# Save the model in the native Keras format\n",
        "model.save(\"bird_sound_classifier.keras\")\n",
        "\n"
      ]
    },
    {
      "cell_type": "code",
      "execution_count": 30,
      "metadata": {
        "colab": {
          "base_uri": "https://localhost:8080/"
        },
        "id": "fXjUubCHle6v",
        "outputId": "b88a16a2-a830-4ed2-828e-3d55321e80d0"
      },
      "outputs": [
        {
          "output_type": "stream",
          "name": "stdout",
          "text": [
            "Enter the path to the audio file: /content/drive/MyDrive/Audio/cleaned_2062_424247_Ashy Prinia.wav\n",
            "1/1 [==============================] - 0s 105ms/step\n",
            "Predicted Bird Class: Ashy Prinia\n"
          ]
        }
      ],
      "source": [
        "from keras.models import load_model\n",
        "import librosa\n",
        "import numpy as np\n",
        "\n",
        "# Load the saved model\n",
        "loaded_model = load_model(\"bird_sound_classifier.keras\")\n",
        "\n",
        "# Function to preprocess audio file\n",
        "def preprocess_audio(audio_file):\n",
        "    # Load audio file\n",
        "    audio, _ = librosa.load(audio_file, sr=22050)\n",
        "    # Extract Mel-frequency cepstral coefficients (MFCCs) feature\n",
        "    mfccs = librosa.feature.mfcc(y=audio, sr=22050, n_mfcc=13)  # Set n_mfcc to 13 to match model input shape\n",
        "    # Pad or truncate the MFCCs feature to match the expected input shape\n",
        "    if mfccs.shape[1] < 174:\n",
        "        mfccs = np.pad(mfccs, ((0, 0), (0, 174 - mfccs.shape[1])), mode='constant')\n",
        "    else:\n",
        "        mfccs = mfccs[:, :174]\n",
        "    # Reshape to match the input shape of the model\n",
        "    mfccs = mfccs.reshape(1, mfccs.shape[0], mfccs.shape[1], 1)\n",
        "    return mfccs\n",
        "\n",
        "# Predict function\n",
        "def predict_bird_class(audio_file, model):\n",
        "    # Preprocess the audio file\n",
        "    processed_audio = preprocess_audio(audio_file)\n",
        "    # Predict the class\n",
        "    predictions = model.predict(processed_audio)\n",
        "    # Decode the predictions\n",
        "    predicted_class = np.argmax(predictions)\n",
        "    return predicted_class\n",
        "\n",
        "# List of classes\n",
        "classes = [\"Ashy Prinia\", \"Asian Koel\", \"Black-hooded Oriole\", \"Common Tailorbird\", \"White-cheeked Barbet\"]  # Define your classes\n",
        "\n",
        "# Take audio file path as input from user\n",
        "audio_file = input(\"Enter the path to the audio file: \")\n",
        "\n",
        "try:\n",
        "    # Predict the class\n",
        "    predicted_class_index = predict_bird_class(audio_file, loaded_model)\n",
        "    predicted_class_label = classes[predicted_class_index]\n",
        "    print(\"Predicted Bird Class:\", predicted_class_label)\n",
        "except Exception as e:\n",
        "    print(\"Error:\", e)\n",
        "    print(\"Please provide a valid audio file path.\")\n"
      ]
    },
    {
      "cell_type": "code",
      "execution_count": null,
      "metadata": {
        "colab": {
          "base_uri": "https://localhost:8080/",
          "height": 1000
        },
        "id": "3I7niWdd6q8u",
        "outputId": "643cec19-134e-42a6-e57d-495dafe7b558"
      },
      "outputs": [
        {
          "name": "stdout",
          "output_type": "stream",
          "text": [
            "Epoch 1/30\n",
            "13/13 [==============================] - ETA: 0s - loss: 0.0776 - accuracy: 0.9824Epoch 1/30 - loss: 0.0776 - accuracy: 0.9824 - val_loss: 3.7962 - val_accuracy: 0.6100\n",
            "13/13 [==============================] - 2s 177ms/step - loss: 0.0776 - accuracy: 0.9824 - val_loss: 3.7962 - val_accuracy: 0.6100\n",
            "Epoch 2/30\n",
            "13/13 [==============================] - ETA: 0s - loss: 0.0561 - accuracy: 0.9874Epoch 2/30 - loss: 0.0561 - accuracy: 0.9874 - val_loss: 3.4756 - val_accuracy: 0.6300\n",
            "13/13 [==============================] - 2s 178ms/step - loss: 0.0561 - accuracy: 0.9874 - val_loss: 3.4756 - val_accuracy: 0.6300\n",
            "Epoch 3/30\n",
            "13/13 [==============================] - ETA: 0s - loss: 0.1677 - accuracy: 0.9748Epoch 3/30 - loss: 0.1677 - accuracy: 0.9748 - val_loss: 3.3058 - val_accuracy: 0.6500\n",
            "13/13 [==============================] - 4s 281ms/step - loss: 0.1677 - accuracy: 0.9748 - val_loss: 3.3058 - val_accuracy: 0.6500\n",
            "Epoch 4/30\n",
            "13/13 [==============================] - ETA: 0s - loss: 0.1018 - accuracy: 0.9773Epoch 4/30 - loss: 0.1018 - accuracy: 0.9773 - val_loss: 3.1489 - val_accuracy: 0.6200\n",
            "13/13 [==============================] - 3s 198ms/step - loss: 0.1018 - accuracy: 0.9773 - val_loss: 3.1489 - val_accuracy: 0.6200\n",
            "Epoch 5/30\n",
            "13/13 [==============================] - ETA: 0s - loss: 0.0235 - accuracy: 0.9950Epoch 5/30 - loss: 0.0235 - accuracy: 0.9950 - val_loss: 3.3382 - val_accuracy: 0.6100\n",
            "13/13 [==============================] - 2s 165ms/step - loss: 0.0235 - accuracy: 0.9950 - val_loss: 3.3382 - val_accuracy: 0.6100\n",
            "Epoch 6/30\n",
            "13/13 [==============================] - ETA: 0s - loss: 0.0985 - accuracy: 0.9874Epoch 6/30 - loss: 0.0985 - accuracy: 0.9874 - val_loss: 3.8862 - val_accuracy: 0.6100\n",
            "13/13 [==============================] - 2s 159ms/step - loss: 0.0985 - accuracy: 0.9874 - val_loss: 3.8862 - val_accuracy: 0.6100\n",
            "Epoch 7/30\n",
            "13/13 [==============================] - ETA: 0s - loss: 0.0386 - accuracy: 0.9849Epoch 7/30 - loss: 0.0386 - accuracy: 0.9849 - val_loss: 3.2140 - val_accuracy: 0.6600\n",
            "13/13 [==============================] - 2s 174ms/step - loss: 0.0386 - accuracy: 0.9849 - val_loss: 3.2140 - val_accuracy: 0.6600\n",
            "Epoch 8/30\n",
            "13/13 [==============================] - ETA: 0s - loss: 0.0640 - accuracy: 0.9899Epoch 8/30 - loss: 0.0640 - accuracy: 0.9899 - val_loss: 3.5744 - val_accuracy: 0.7000\n",
            "13/13 [==============================] - 2s 163ms/step - loss: 0.0640 - accuracy: 0.9899 - val_loss: 3.5744 - val_accuracy: 0.7000\n",
            "Epoch 9/30\n",
            "13/13 [==============================] - ETA: 0s - loss: 0.0323 - accuracy: 0.9899Epoch 9/30 - loss: 0.0323 - accuracy: 0.9899 - val_loss: 3.4254 - val_accuracy: 0.6500\n",
            "13/13 [==============================] - 4s 278ms/step - loss: 0.0323 - accuracy: 0.9899 - val_loss: 3.4254 - val_accuracy: 0.6500\n",
            "Epoch 10/30\n",
            "13/13 [==============================] - ETA: 0s - loss: 0.0109 - accuracy: 0.9975Epoch 10/30 - loss: 0.0109 - accuracy: 0.9975 - val_loss: 3.3957 - val_accuracy: 0.6100\n",
            "13/13 [==============================] - 3s 207ms/step - loss: 0.0109 - accuracy: 0.9975 - val_loss: 3.3957 - val_accuracy: 0.6100\n",
            "Epoch 11/30\n",
            "13/13 [==============================] - ETA: 0s - loss: 0.0337 - accuracy: 0.9899Epoch 11/30 - loss: 0.0337 - accuracy: 0.9899 - val_loss: 3.2366 - val_accuracy: 0.6300\n",
            "13/13 [==============================] - 2s 151ms/step - loss: 0.0337 - accuracy: 0.9899 - val_loss: 3.2366 - val_accuracy: 0.6300\n",
            "Epoch 12/30\n",
            "13/13 [==============================] - ETA: 0s - loss: 0.0104 - accuracy: 0.9899Epoch 12/30 - loss: 0.0104 - accuracy: 0.9899 - val_loss: 3.9354 - val_accuracy: 0.6300\n",
            "13/13 [==============================] - 2s 156ms/step - loss: 0.0104 - accuracy: 0.9899 - val_loss: 3.9354 - val_accuracy: 0.6300\n",
            "Epoch 13/30\n",
            "13/13 [==============================] - ETA: 0s - loss: 0.0176 - accuracy: 0.9975Epoch 13/30 - loss: 0.0176 - accuracy: 0.9975 - val_loss: 3.8246 - val_accuracy: 0.6600\n",
            "13/13 [==============================] - 2s 154ms/step - loss: 0.0176 - accuracy: 0.9975 - val_loss: 3.8246 - val_accuracy: 0.6600\n",
            "Epoch 14/30\n",
            "13/13 [==============================] - ETA: 0s - loss: 0.0027 - accuracy: 1.0000Epoch 14/30 - loss: 0.0027 - accuracy: 1.0000 - val_loss: 3.5682 - val_accuracy: 0.7000\n",
            "13/13 [==============================] - 2s 179ms/step - loss: 0.0027 - accuracy: 1.0000 - val_loss: 3.5682 - val_accuracy: 0.7000\n",
            "Epoch 15/30\n",
            "13/13 [==============================] - ETA: 0s - loss: 0.0377 - accuracy: 0.9924Epoch 15/30 - loss: 0.0377 - accuracy: 0.9924 - val_loss: 3.7885 - val_accuracy: 0.6500\n",
            "13/13 [==============================] - 4s 277ms/step - loss: 0.0377 - accuracy: 0.9924 - val_loss: 3.7885 - val_accuracy: 0.6500\n",
            "Epoch 16/30\n",
            "13/13 [==============================] - ETA: 0s - loss: 0.0231 - accuracy: 0.9975Epoch 16/30 - loss: 0.0231 - accuracy: 0.9975 - val_loss: 3.9356 - val_accuracy: 0.6600\n",
            "13/13 [==============================] - 2s 178ms/step - loss: 0.0231 - accuracy: 0.9975 - val_loss: 3.9356 - val_accuracy: 0.6600\n",
            "Epoch 17/30\n",
            "13/13 [==============================] - ETA: 0s - loss: 0.0443 - accuracy: 0.9924Epoch 17/30 - loss: 0.0443 - accuracy: 0.9924 - val_loss: 3.5969 - val_accuracy: 0.6600\n",
            "13/13 [==============================] - 2s 187ms/step - loss: 0.0443 - accuracy: 0.9924 - val_loss: 3.5969 - val_accuracy: 0.6600\n",
            "Epoch 18/30\n",
            "13/13 [==============================] - ETA: 0s - loss: 0.0806 - accuracy: 0.9849Epoch 18/30 - loss: 0.0806 - accuracy: 0.9849 - val_loss: 3.7761 - val_accuracy: 0.6100\n",
            "13/13 [==============================] - 3s 203ms/step - loss: 0.0806 - accuracy: 0.9849 - val_loss: 3.7761 - val_accuracy: 0.6100\n",
            "Epoch 19/30\n",
            "13/13 [==============================] - ETA: 0s - loss: 0.0393 - accuracy: 0.9975Epoch 19/30 - loss: 0.0393 - accuracy: 0.9975 - val_loss: 4.0385 - val_accuracy: 0.6500\n",
            "13/13 [==============================] - 5s 400ms/step - loss: 0.0393 - accuracy: 0.9975 - val_loss: 4.0385 - val_accuracy: 0.6500\n",
            "Epoch 20/30\n",
            "13/13 [==============================] - ETA: 0s - loss: 0.0508 - accuracy: 0.9924Epoch 20/30 - loss: 0.0508 - accuracy: 0.9924 - val_loss: 3.6859 - val_accuracy: 0.6800\n",
            "13/13 [==============================] - 5s 395ms/step - loss: 0.0508 - accuracy: 0.9924 - val_loss: 3.6859 - val_accuracy: 0.6800\n",
            "Epoch 21/30\n",
            "13/13 [==============================] - ETA: 0s - loss: 0.1333 - accuracy: 0.9773Epoch 21/30 - loss: 0.1333 - accuracy: 0.9773 - val_loss: 4.0675 - val_accuracy: 0.6100\n",
            "13/13 [==============================] - 3s 241ms/step - loss: 0.1333 - accuracy: 0.9773 - val_loss: 4.0675 - val_accuracy: 0.6100\n",
            "Epoch 22/30\n",
            "13/13 [==============================] - ETA: 0s - loss: 0.0859 - accuracy: 0.9798Epoch 22/30 - loss: 0.0859 - accuracy: 0.9798 - val_loss: 4.1073 - val_accuracy: 0.6100\n",
            "13/13 [==============================] - 2s 163ms/step - loss: 0.0859 - accuracy: 0.9798 - val_loss: 4.1073 - val_accuracy: 0.6100\n",
            "Epoch 23/30\n",
            "13/13 [==============================] - ETA: 0s - loss: 0.0979 - accuracy: 0.9798Epoch 23/30 - loss: 0.0979 - accuracy: 0.9798 - val_loss: 3.4354 - val_accuracy: 0.6300\n",
            "13/13 [==============================] - 2s 162ms/step - loss: 0.0979 - accuracy: 0.9798 - val_loss: 3.4354 - val_accuracy: 0.6300\n",
            "Epoch 24/30\n",
            "13/13 [==============================] - ETA: 0s - loss: 0.0464 - accuracy: 0.9874Epoch 24/30 - loss: 0.0464 - accuracy: 0.9874 - val_loss: 3.5113 - val_accuracy: 0.5600\n",
            "13/13 [==============================] - 3s 218ms/step - loss: 0.0464 - accuracy: 0.9874 - val_loss: 3.5113 - val_accuracy: 0.5600\n",
            "Epoch 25/30\n",
            "13/13 [==============================] - ETA: 0s - loss: 0.0489 - accuracy: 0.9824Epoch 25/30 - loss: 0.0489 - accuracy: 0.9824 - val_loss: 3.4463 - val_accuracy: 0.6200\n",
            "13/13 [==============================] - 3s 224ms/step - loss: 0.0489 - accuracy: 0.9824 - val_loss: 3.4463 - val_accuracy: 0.6200\n",
            "Epoch 26/30\n",
            "13/13 [==============================] - ETA: 0s - loss: 0.0276 - accuracy: 0.9899Epoch 26/30 - loss: 0.0276 - accuracy: 0.9899 - val_loss: 3.2963 - val_accuracy: 0.6000\n",
            "13/13 [==============================] - 2s 151ms/step - loss: 0.0276 - accuracy: 0.9899 - val_loss: 3.2963 - val_accuracy: 0.6000\n",
            "Epoch 27/30\n",
            "13/13 [==============================] - ETA: 0s - loss: 0.1423 - accuracy: 0.9849Epoch 27/30 - loss: 0.1423 - accuracy: 0.9849 - val_loss: 3.9068 - val_accuracy: 0.5400\n",
            "13/13 [==============================] - 2s 164ms/step - loss: 0.1423 - accuracy: 0.9849 - val_loss: 3.9068 - val_accuracy: 0.5400\n",
            "Epoch 28/30\n",
            "13/13 [==============================] - ETA: 0s - loss: 0.0997 - accuracy: 0.9874Epoch 28/30 - loss: 0.0997 - accuracy: 0.9874 - val_loss: 3.6949 - val_accuracy: 0.6200\n",
            "13/13 [==============================] - 2s 193ms/step - loss: 0.0997 - accuracy: 0.9874 - val_loss: 3.6949 - val_accuracy: 0.6200\n",
            "Epoch 29/30\n",
            "13/13 [==============================] - ETA: 0s - loss: 0.0292 - accuracy: 0.9849Epoch 29/30 - loss: 0.0292 - accuracy: 0.9849 - val_loss: 3.6310 - val_accuracy: 0.6300\n",
            "13/13 [==============================] - 2s 183ms/step - loss: 0.0292 - accuracy: 0.9849 - val_loss: 3.6310 - val_accuracy: 0.6300\n",
            "Epoch 30/30\n",
            "13/13 [==============================] - ETA: 0s - loss: 0.1244 - accuracy: 0.9773Epoch 30/30 - loss: 0.1244 - accuracy: 0.9773 - val_loss: 3.7642 - val_accuracy: 0.5800\n",
            "13/13 [==============================] - 3s 238ms/step - loss: 0.1244 - accuracy: 0.9773 - val_loss: 3.7642 - val_accuracy: 0.5800\n"
          ]
        },
        {
          "data": {
            "image/png": "[encoded data removed]",
            "text/plain": [
              "<Figure size 640x480 with 1 Axes>"
            ]
          },
          "metadata": {},
          "output_type": "display_data"
        }
      ],
      "source": [
        "import matplotlib.pyplot as plt\n",
        "\n",
        "# Assuming you have stored the training history in a variable named 'history'\n",
        "history = model.fit(X_train, y_train, batch_size=32, epochs=30, validation_data=(X_test, y_test), callbacks=[print_progress])\n",
        "\n",
        "# Plot training & validation accuracy values\n",
        "plt.plot(history.history['accuracy'])\n",
        "plt.plot(history.history['val_accuracy'])\n",
        "plt.title('Model accuracy')\n",
        "plt.xlabel('Epoch')\n",
        "plt.ylabel('Accuracy')\n",
        "plt.legend(['Train', 'Test'], loc='upper left')\n",
        "plt.show()\n"
      ]
    }
  ],
  "metadata": {
    "colab": {
      "provenance": []
    },
    "kernelspec": {
      "display_name": "Python 3",
      "name": "python3"
    },
    "language_info": {
      "name": "python"
    }
  },
  "nbformat": 4,
  "nbformat_minor": 0
}